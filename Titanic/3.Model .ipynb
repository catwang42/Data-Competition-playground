{
 "cells": [
  {
   "cell_type": "code",
   "execution_count": 1,
   "metadata": {
    "collapsed": false
   },
   "outputs": [
    {
     "name": "stderr",
     "output_type": "stream",
     "text": [
      "/Applications/anaconda/lib/python3.6/site-packages/sklearn/cross_validation.py:44: DeprecationWarning: This module was deprecated in version 0.18 in favor of the model_selection module into which all the refactored classes and functions are moved. Also note that the interface of the new CV iterators are different from that of this module. This module will be removed in 0.20.\n",
      "  \"This module will be removed in 0.20.\", DeprecationWarning)\n"
     ]
    }
   ],
   "source": [
    "import pandas as pd \n",
    "import numpy as np \n",
    "from sklearn.ensemble import RandomForestClassifier, GradientBoostingClassifier, ExtraTreesClassifier, VotingClassifier\n",
    "import xgboost as xgb\n"
   ]
  },
  {
   "cell_type": "code",
   "execution_count": 3,
   "metadata": {
    "collapsed": false
   },
   "outputs": [
    {
     "name": "stdout",
     "output_type": "stream",
     "text": [
      "\u001b[31m1.baseline.ipynb\u001b[m\u001b[m*            gender_submission.csv\r\n",
      "2.Feature Engineering.ipynb  \u001b[34msubmission\u001b[m\u001b[m/\r\n",
      "3.Model .ipynb               \u001b[34mtry\u001b[m\u001b[m/\r\n",
      "\u001b[34mdata\u001b[m\u001b[m/\r\n"
     ]
    }
   ],
   "source": [
    "ls"
   ]
  },
  {
   "cell_type": "code",
   "execution_count": 63,
   "metadata": {
    "collapsed": false
   },
   "outputs": [],
   "source": [
    "df_all = pd.read_csv('data/test.csv')\n",
    "topfeature_train = pd.read_csv('data/topfeature_train.csv')\n",
    "topfeature_test_X = pd.read_csv('data/topfeature_test.csv')"
   ]
  },
  {
   "cell_type": "code",
   "execution_count": 64,
   "metadata": {
    "collapsed": true
   },
   "outputs": [],
   "source": [
    "topfeature_train_X = topfeature_train.drop(['Survived'], axis = 1)\n",
    "topfeature_train_y = topfeature_train['Survived']"
   ]
  },
  {
   "cell_type": "code",
   "execution_count": 57,
   "metadata": {
    "collapsed": false
   },
   "outputs": [
    {
     "name": "stdout",
     "output_type": "stream",
     "text": [
      "(891, 12)\n"
     ]
    }
   ],
   "source": [
    "print(df_all.shape)"
   ]
  },
  {
   "cell_type": "code",
   "execution_count": 56,
   "metadata": {
    "collapsed": false
   },
   "outputs": [
    {
     "name": "stdout",
     "output_type": "stream",
     "text": [
      "(891, 286)\n",
      "(891,)\n",
      "(418, 287)\n"
     ]
    }
   ],
   "source": [
    "print(topfeature_train_X.shape)\n",
    "print(topfeature_train_y.shape)\n",
    "print(topfeature_test_X.shape)"
   ]
  },
  {
   "cell_type": "code",
   "execution_count": 65,
   "metadata": {
    "collapsed": false
   },
   "outputs": [
    {
     "name": "stdout",
     "output_type": "stream",
     "text": [
      "      Iter       Train Loss   Remaining Time \n",
      "         1           0.9725            1.30s\n",
      "         2           0.9725            2.36s\n",
      "         3           0.9722            2.89s\n",
      "         4           0.9722            4.67s\n",
      "         5           0.9719            5.67s\n",
      "         6           0.9717            6.67s\n",
      "         7           0.9714            6.06s\n",
      "         8           0.9713            5.64s\n",
      "         9           0.9711            5.54s\n",
      "        10           0.9710            5.28s\n",
      "        20           0.9692            3.49s\n",
      "        30           0.9671            3.02s\n",
      "        40           0.9651            2.64s\n",
      "        50           0.9631            2.58s\n",
      "        60           0.9614            2.27s\n",
      "        70           0.9598            2.09s\n",
      "        80           0.9579            1.98s\n",
      "        90           0.9561            1.87s\n",
      "       100           0.9544            1.76s\n",
      "       200           0.9392            1.16s\n",
      "       300           0.9237            0.85s\n",
      "       400           0.9101            0.65s\n",
      "       500           0.8969            0.51s\n",
      "       600           0.8845            0.39s\n"
     ]
    },
    {
     "name": "stderr",
     "output_type": "stream",
     "text": [
      "[Parallel(n_jobs=50)]: Done 100 tasks      | elapsed:    0.1s\n",
      "[Parallel(n_jobs=50)]: Done 100 tasks      | elapsed:    0.1s\n",
      "[Parallel(n_jobs=50)]: Done 350 tasks      | elapsed:    0.3s\n",
      "[Parallel(n_jobs=50)]: Done 350 tasks      | elapsed:    0.3s\n"
     ]
    },
    {
     "name": "stdout",
     "output_type": "stream",
     "text": [
      "       700           0.8726            0.44s\n"
     ]
    },
    {
     "name": "stderr",
     "output_type": "stream",
     "text": [
      "[Parallel(n_jobs=50)]: Done 750 out of 750 | elapsed:    0.5s finished\n",
      "[Parallel(n_jobs=50)]: Done 750 out of 750 | elapsed:    0.6s finished\n"
     ]
    },
    {
     "name": "stdout",
     "output_type": "stream",
     "text": [
      "       800           0.8619            0.31s\n",
      "       900           0.8517            0.15s\n",
      "      1000           0.8406            0.00s\n"
     ]
    },
    {
     "name": "stderr",
     "output_type": "stream",
     "text": [
      "[Parallel(n_jobs=50)]: Done 100 tasks      | elapsed:    0.0s\n",
      "[Parallel(n_jobs=50)]: Done 350 tasks      | elapsed:    0.1s\n",
      "[Parallel(n_jobs=50)]: Done 750 out of 750 | elapsed:    0.1s finished\n"
     ]
    },
    {
     "name": "stdout",
     "output_type": "stream",
     "text": [
      "VotingClassifier Score: 0.928170594837\n",
      "VotingClassifier Estimators: [RandomForestClassifier(bootstrap=True, class_weight=None, criterion='gini',\n",
      "            max_depth=3, max_features='sqrt', max_leaf_nodes=None,\n",
      "            min_impurity_split=1e-07, min_samples_leaf=2,\n",
      "            min_samples_split=4, min_weight_fraction_leaf=0.0,\n",
      "            n_estimators=750, n_jobs=50, oob_score=False, random_state=42,\n",
      "            verbose=1, warm_start=False), GradientBoostingClassifier(criterion='friedman_mse', init=None,\n",
      "              learning_rate=0.0008, loss='exponential', max_depth=3,\n",
      "              max_features='sqrt', max_leaf_nodes=None,\n",
      "              min_impurity_split=1e-07, min_samples_leaf=2,\n",
      "              min_samples_split=3, min_weight_fraction_leaf=0.0,\n",
      "              n_estimators=1000, presort='auto', random_state=42,\n",
      "              subsample=1.0, verbose=1, warm_start=False), ExtraTreesClassifier(bootstrap=False, class_weight=None, criterion='entropy',\n",
      "           max_depth=35, max_features='sqrt', max_leaf_nodes=None,\n",
      "           min_impurity_split=1e-07, min_samples_leaf=1,\n",
      "           min_samples_split=2, min_weight_fraction_leaf=0.0,\n",
      "           n_estimators=750, n_jobs=50, oob_score=False, random_state=42,\n",
      "           verbose=1, warm_start=False)]\n"
     ]
    },
    {
     "name": "stderr",
     "output_type": "stream",
     "text": [
      "[Parallel(n_jobs=50)]: Done 100 tasks      | elapsed:    0.0s\n",
      "[Parallel(n_jobs=50)]: Done 350 tasks      | elapsed:    0.1s\n",
      "[Parallel(n_jobs=50)]: Done 750 out of 750 | elapsed:    0.2s finished\n"
     ]
    }
   ],
   "source": [
    "rf_est = RandomForestClassifier(n_estimators = 750, criterion = 'gini', max_features = 'sqrt',\n",
    "                                max_depth = 3, min_samples_split = 4, min_samples_leaf = 2, n_jobs = 50,\n",
    "                                random_state = 42, verbose = 1)\n",
    "\n",
    "gbm_est = GradientBoostingClassifier(n_estimators = 1000, learning_rate = 0.0008,\n",
    "                                     loss = 'exponential', min_samples_split = 3,\n",
    "                                     min_samples_leaf = 2, max_features ='sqrt', max_depth = 3,\n",
    "                                     random_state = 42, verbose = 1)\n",
    "\n",
    "et_est = ExtraTreesClassifier(n_estimators = 750, max_features = 'sqrt', max_depth = 35,\n",
    "                              n_jobs = 50, criterion = 'entropy', random_state = 42, verbose = 1)\n",
    "\n",
    "#gbm = xgb.XGBClassifier(max_depth=3, n_estimators=300, learning_rate=0.05)\n",
    "\n",
    "voting_est = VotingClassifier(estimators = [('rf', rf_est),('gbm', gbm_est),('et', et_est)],\n",
    "                              voting = 'soft', weights = [3,5,2],n_jobs = 50)\n",
    "                                       \n",
    "voting_est.fit(topfeature_train_X, topfeature_train_y)\n",
    "print(\"VotingClassifier Score: \" + str(voting_est.score(topfeature_train_X, topfeature_train_y)))\n",
    "print(\"VotingClassifier Estimators: \" + str(voting_est.estimators_))"
   ]
  },
  {
   "cell_type": "code",
   "execution_count": 67,
   "metadata": {
    "collapsed": false
   },
   "outputs": [
    {
     "name": "stderr",
     "output_type": "stream",
     "text": [
      "[Parallel(n_jobs=50)]: Done 100 tasks      | elapsed:    0.0s\n",
      "[Parallel(n_jobs=50)]: Done 350 tasks      | elapsed:    0.1s\n",
      "[Parallel(n_jobs=50)]: Done 750 out of 750 | elapsed:    0.1s finished\n",
      "[Parallel(n_jobs=50)]: Done 100 tasks      | elapsed:    0.0s\n",
      "[Parallel(n_jobs=50)]: Done 350 tasks      | elapsed:    0.1s\n",
      "[Parallel(n_jobs=50)]: Done 750 out of 750 | elapsed:    0.1s finished\n"
     ]
    }
   ],
   "source": [
    "topfeature_test_X['Survived'] = voting_est.predict(topfeature_test_X)"
   ]
  },
  {
   "cell_type": "code",
   "execution_count": 68,
   "metadata": {
    "collapsed": false
   },
   "outputs": [],
   "source": [
    "submission = pd.DataFrame({'PassengerId': df_all.loc[:, 'PassengerId'],\n",
    "                           'Survived': topfeature_test_X.loc[:, 'Survived'].astype(np.int32)})\n",
    "submission.to_csv(\"submission/submission08_08_1.csv\", index = False)"
   ]
  },
  {
   "cell_type": "code",
   "execution_count": 62,
   "metadata": {
    "collapsed": false
   },
   "outputs": [
    {
     "data": {
      "text/plain": [
       "PassengerId    False\n",
       "Survived       False\n",
       "dtype: bool"
      ]
     },
     "execution_count": 62,
     "metadata": {},
     "output_type": "execute_result"
    }
   ],
   "source": [
    "submission.isnull().any()"
   ]
  },
  {
   "cell_type": "code",
   "execution_count": null,
   "metadata": {
    "collapsed": true
   },
   "outputs": [],
   "source": [
    "df_tset = "
   ]
  }
 ],
 "metadata": {
  "kernelspec": {
   "display_name": "Python 3",
   "language": "python",
   "name": "python3"
  },
  "language_info": {
   "codemirror_mode": {
    "name": "ipython",
    "version": 3
   },
   "file_extension": ".py",
   "mimetype": "text/x-python",
   "name": "python",
   "nbconvert_exporter": "python",
   "pygments_lexer": "ipython3",
   "version": "3.6.0"
  }
 },
 "nbformat": 4,
 "nbformat_minor": 2
}
