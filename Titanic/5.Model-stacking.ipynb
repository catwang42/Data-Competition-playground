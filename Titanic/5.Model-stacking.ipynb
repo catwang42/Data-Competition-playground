{
 "cells": [
  {
   "cell_type": "code",
   "execution_count": 14,
   "metadata": {
    "collapsed": false
   },
   "outputs": [],
   "source": [
    "import pandas as pd \n",
    "import numpy as np \n",
    "from sklearn.ensemble import RandomForestClassifier, GradientBoostingClassifier, ExtraTreesClassifier\n",
    "from sklearn.ensemble import AdaBoostClassifier\n",
    "from sklearn.svm import SVC \n",
    "import xgboost as xgb\n",
    "from sklearn.model_selection import StratifiedShuffleSplit, GridSearchCV\n"
   ]
  },
  {
   "cell_type": "code",
   "execution_count": 2,
   "metadata": {
    "collapsed": true
   },
   "outputs": [],
   "source": [
    "df_all = pd.read_csv('data/test.csv')\n",
    "topfeature_train = pd.read_csv('data/topfeature_train.csv')\n",
    "topfeature_test_X = pd.read_csv('data/topfeature_test.csv')"
   ]
  },
  {
   "cell_type": "code",
   "execution_count": 8,
   "metadata": {
    "collapsed": true
   },
   "outputs": [],
   "source": [
    "topfeature_train_X = topfeature_train.drop(['Survived'], axis = 1)\n",
    "topfeature_train_y = topfeature_train['Survived'].ravel()"
   ]
  },
  {
   "cell_type": "markdown",
   "metadata": {},
   "source": [
    "## Base level model "
   ]
  },
  {
   "cell_type": "code",
   "execution_count": 34,
   "metadata": {
    "collapsed": false
   },
   "outputs": [],
   "source": [
    "#Random Forest\n",
    "rf_params ={\n",
    "    'n_estimators':[500], \n",
    "    'criterion':['gini'], \n",
    "    'max_features': ['sqrt'],\n",
    "    'max_depth':[6,20], \n",
    "    'min_samples_split':[3], \n",
    "    'min_samples_leaf':[2], \n",
    "    'n_jobs':[50], \n",
    "    'random_state':[42], \n",
    "    'verbose':[0]\n",
    "}\n",
    "#rf_param_grid = {'n_estimators' : [500], 'min_samples_split':[2], 'max_depth':[20]}\n",
    "rf_clf = RandomForestClassifier()\n",
    "\n",
    "#Gradient Boosting\n",
    "gbm_params={\n",
    "    'n_estimators': [500], \n",
    "    'learning_rate': [0.0008,0.75],\n",
    "    'loss': ['exponential'], \n",
    "    'min_samples_split': [3],\n",
    "    'min_samples_leaf': [2], \n",
    "    'max_features': ['sqrt'], \n",
    "    'max_depth': [3],\n",
    "    'random_state': [42], \n",
    "    'verbose': [0,1]\n",
    "}\n",
    "gbm_est = GradientBoostingClassifier()\n",
    "\n",
    "#Extra Trees\n",
    "et_est = ExtraTreesClassifier(n_estimators = 750, max_features = 'sqrt', max_depth = 35,\n",
    "                              n_jobs = 50, criterion = 'entropy', random_state = 42, verbose = 1)\n",
    "\n",
    "#Ada Boosting \n",
    "\n",
    "#SVC"
   ]
  },
  {
   "cell_type": "code",
   "execution_count": 35,
   "metadata": {
    "collapsed": false
   },
   "outputs": [
    {
     "ename": "AttributeError",
     "evalue": "'dict' object has no attribute 'split'",
     "output_type": "error",
     "traceback": [
      "\u001b[0;31m---------------------------------------------------------------------------\u001b[0m",
      "\u001b[0;31mAttributeError\u001b[0m                            Traceback (most recent call last)",
      "\u001b[0;32m<ipython-input-35-cdb4bdcb5c3d>\u001b[0m in \u001b[0;36m<module>\u001b[0;34m()\u001b[0m\n\u001b[0;32m----> 1\u001b[0;31m \u001b[0mgbm_params\u001b[0m\u001b[0;34m.\u001b[0m\u001b[0msplit\u001b[0m\u001b[0;34m(\u001b[0m\u001b[0;34m'_'\u001b[0m\u001b[0;34m)\u001b[0m\u001b[0;34m\u001b[0m\u001b[0m\n\u001b[0m",
      "\u001b[0;31mAttributeError\u001b[0m: 'dict' object has no attribute 'split'"
     ]
    }
   ],
   "source": []
  },
  {
   "cell_type": "markdown",
   "metadata": {},
   "source": [
    "**Stratified shuffle split** + **Gridsearch** "
   ]
  },
  {
   "cell_type": "code",
   "execution_count": 38,
   "metadata": {
    "collapsed": false
   },
   "outputs": [
    {
     "name": "stdout",
     "output_type": "stream",
     "text": [
      "Fitting 10 folds for each of 2 candidates, totalling 20 fits\n",
      "[CV] criterion=gini, max_depth=6, max_features=sqrt, min_samples_leaf=2, min_samples_split=3, n_estimators=500, n_jobs=50, random_state=42, verbose=0 \n",
      "[CV]  criterion=gini, max_depth=6, max_features=sqrt, min_samples_leaf=2, min_samples_split=3, n_estimators=500, n_jobs=50, random_state=42, verbose=0, score=0.821229, total=   0.7s\n",
      "[CV] criterion=gini, max_depth=6, max_features=sqrt, min_samples_leaf=2, min_samples_split=3, n_estimators=500, n_jobs=50, random_state=42, verbose=0 \n"
     ]
    },
    {
     "name": "stderr",
     "output_type": "stream",
     "text": [
      "[Parallel(n_jobs=1)]: Done   1 out of   1 | elapsed:    0.8s remaining:    0.0s\n"
     ]
    },
    {
     "name": "stdout",
     "output_type": "stream",
     "text": [
      "[CV]  criterion=gini, max_depth=6, max_features=sqrt, min_samples_leaf=2, min_samples_split=3, n_estimators=500, n_jobs=50, random_state=42, verbose=0, score=0.804469, total=   0.7s\n",
      "[CV] criterion=gini, max_depth=6, max_features=sqrt, min_samples_leaf=2, min_samples_split=3, n_estimators=500, n_jobs=50, random_state=42, verbose=0 \n"
     ]
    },
    {
     "name": "stderr",
     "output_type": "stream",
     "text": [
      "[Parallel(n_jobs=1)]: Done   2 out of   2 | elapsed:    1.7s remaining:    0.0s\n"
     ]
    },
    {
     "name": "stdout",
     "output_type": "stream",
     "text": [
      "[CV]  criterion=gini, max_depth=6, max_features=sqrt, min_samples_leaf=2, min_samples_split=3, n_estimators=500, n_jobs=50, random_state=42, verbose=0, score=0.815642, total=   0.7s\n",
      "[CV] criterion=gini, max_depth=6, max_features=sqrt, min_samples_leaf=2, min_samples_split=3, n_estimators=500, n_jobs=50, random_state=42, verbose=0 \n",
      "[CV]  criterion=gini, max_depth=6, max_features=sqrt, min_samples_leaf=2, min_samples_split=3, n_estimators=500, n_jobs=50, random_state=42, verbose=0, score=0.837989, total=   0.7s\n",
      "[CV] criterion=gini, max_depth=6, max_features=sqrt, min_samples_leaf=2, min_samples_split=3, n_estimators=500, n_jobs=50, random_state=42, verbose=0 \n",
      "[CV]  criterion=gini, max_depth=6, max_features=sqrt, min_samples_leaf=2, min_samples_split=3, n_estimators=500, n_jobs=50, random_state=42, verbose=0, score=0.793296, total=   0.7s\n",
      "[CV] criterion=gini, max_depth=6, max_features=sqrt, min_samples_leaf=2, min_samples_split=3, n_estimators=500, n_jobs=50, random_state=42, verbose=0 \n",
      "[CV]  criterion=gini, max_depth=6, max_features=sqrt, min_samples_leaf=2, min_samples_split=3, n_estimators=500, n_jobs=50, random_state=42, verbose=0, score=0.815642, total=   0.8s\n",
      "[CV] criterion=gini, max_depth=6, max_features=sqrt, min_samples_leaf=2, min_samples_split=3, n_estimators=500, n_jobs=50, random_state=42, verbose=0 \n",
      "[CV]  criterion=gini, max_depth=6, max_features=sqrt, min_samples_leaf=2, min_samples_split=3, n_estimators=500, n_jobs=50, random_state=42, verbose=0, score=0.821229, total=   0.7s\n",
      "[CV] criterion=gini, max_depth=6, max_features=sqrt, min_samples_leaf=2, min_samples_split=3, n_estimators=500, n_jobs=50, random_state=42, verbose=0 \n",
      "[CV]  criterion=gini, max_depth=6, max_features=sqrt, min_samples_leaf=2, min_samples_split=3, n_estimators=500, n_jobs=50, random_state=42, verbose=0, score=0.832402, total=   0.7s\n",
      "[CV] criterion=gini, max_depth=6, max_features=sqrt, min_samples_leaf=2, min_samples_split=3, n_estimators=500, n_jobs=50, random_state=42, verbose=0 \n",
      "[CV]  criterion=gini, max_depth=6, max_features=sqrt, min_samples_leaf=2, min_samples_split=3, n_estimators=500, n_jobs=50, random_state=42, verbose=0, score=0.826816, total=   0.7s\n",
      "[CV] criterion=gini, max_depth=6, max_features=sqrt, min_samples_leaf=2, min_samples_split=3, n_estimators=500, n_jobs=50, random_state=42, verbose=0 \n",
      "[CV]  criterion=gini, max_depth=6, max_features=sqrt, min_samples_leaf=2, min_samples_split=3, n_estimators=500, n_jobs=50, random_state=42, verbose=0, score=0.821229, total=   0.7s\n",
      "[CV] criterion=gini, max_depth=20, max_features=sqrt, min_samples_leaf=2, min_samples_split=3, n_estimators=500, n_jobs=50, random_state=42, verbose=0 \n",
      "[CV]  criterion=gini, max_depth=20, max_features=sqrt, min_samples_leaf=2, min_samples_split=3, n_estimators=500, n_jobs=50, random_state=42, verbose=0, score=0.826816, total=   0.7s\n",
      "[CV] criterion=gini, max_depth=20, max_features=sqrt, min_samples_leaf=2, min_samples_split=3, n_estimators=500, n_jobs=50, random_state=42, verbose=0 \n",
      "[CV]  criterion=gini, max_depth=20, max_features=sqrt, min_samples_leaf=2, min_samples_split=3, n_estimators=500, n_jobs=50, random_state=42, verbose=0, score=0.798883, total=   0.7s\n",
      "[CV] criterion=gini, max_depth=20, max_features=sqrt, min_samples_leaf=2, min_samples_split=3, n_estimators=500, n_jobs=50, random_state=42, verbose=0 \n",
      "[CV]  criterion=gini, max_depth=20, max_features=sqrt, min_samples_leaf=2, min_samples_split=3, n_estimators=500, n_jobs=50, random_state=42, verbose=0, score=0.821229, total=   0.7s\n",
      "[CV] criterion=gini, max_depth=20, max_features=sqrt, min_samples_leaf=2, min_samples_split=3, n_estimators=500, n_jobs=50, random_state=42, verbose=0 \n",
      "[CV]  criterion=gini, max_depth=20, max_features=sqrt, min_samples_leaf=2, min_samples_split=3, n_estimators=500, n_jobs=50, random_state=42, verbose=0, score=0.843575, total=   0.7s\n",
      "[CV] criterion=gini, max_depth=20, max_features=sqrt, min_samples_leaf=2, min_samples_split=3, n_estimators=500, n_jobs=50, random_state=42, verbose=0 \n",
      "[CV]  criterion=gini, max_depth=20, max_features=sqrt, min_samples_leaf=2, min_samples_split=3, n_estimators=500, n_jobs=50, random_state=42, verbose=0, score=0.804469, total=   0.8s\n",
      "[CV] criterion=gini, max_depth=20, max_features=sqrt, min_samples_leaf=2, min_samples_split=3, n_estimators=500, n_jobs=50, random_state=42, verbose=0 \n",
      "[CV]  criterion=gini, max_depth=20, max_features=sqrt, min_samples_leaf=2, min_samples_split=3, n_estimators=500, n_jobs=50, random_state=42, verbose=0, score=0.821229, total=   0.8s\n",
      "[CV] criterion=gini, max_depth=20, max_features=sqrt, min_samples_leaf=2, min_samples_split=3, n_estimators=500, n_jobs=50, random_state=42, verbose=0 \n",
      "[CV]  criterion=gini, max_depth=20, max_features=sqrt, min_samples_leaf=2, min_samples_split=3, n_estimators=500, n_jobs=50, random_state=42, verbose=0, score=0.826816, total=   0.7s\n",
      "[CV] criterion=gini, max_depth=20, max_features=sqrt, min_samples_leaf=2, min_samples_split=3, n_estimators=500, n_jobs=50, random_state=42, verbose=0 \n",
      "[CV]  criterion=gini, max_depth=20, max_features=sqrt, min_samples_leaf=2, min_samples_split=3, n_estimators=500, n_jobs=50, random_state=42, verbose=0, score=0.821229, total=   0.7s\n",
      "[CV] criterion=gini, max_depth=20, max_features=sqrt, min_samples_leaf=2, min_samples_split=3, n_estimators=500, n_jobs=50, random_state=42, verbose=0 \n",
      "[CV]  criterion=gini, max_depth=20, max_features=sqrt, min_samples_leaf=2, min_samples_split=3, n_estimators=500, n_jobs=50, random_state=42, verbose=0, score=0.832402, total=   0.7s\n",
      "[CV] criterion=gini, max_depth=20, max_features=sqrt, min_samples_leaf=2, min_samples_split=3, n_estimators=500, n_jobs=50, random_state=42, verbose=0 \n",
      "[CV]  criterion=gini, max_depth=20, max_features=sqrt, min_samples_leaf=2, min_samples_split=3, n_estimators=500, n_jobs=50, random_state=42, verbose=0, score=0.843575, total=   0.8s\n"
     ]
    },
    {
     "name": "stderr",
     "output_type": "stream",
     "text": [
      "[Parallel(n_jobs=1)]: Done  20 out of  20 | elapsed:   16.9s finished\n"
     ]
    },
    {
     "name": "stdout",
     "output_type": "stream",
     "text": [
      "randomForest Best Params:{'criterion': 'gini', 'max_depth': 20, 'max_features': 'sqrt', 'min_samples_leaf': 2, 'min_samples_split': 3, 'n_estimators': 500, 'n_jobs': 50, 'random_state': 42, 'verbose': 0}\n",
      "randomForest Best Score:0.824022346369\n"
     ]
    }
   ],
   "source": [
    "stratifiedCV = StratifiedShuffleSplit(n_splits = 10, test_size=0.2, random_state =0)\n",
    "\n",
    "def grid_cv(clf,param,name):\n",
    "    grid_search = GridSearchCV(clf,param,verbose = 3, scoring ='accuracy', cv = stratifiedCV)\n",
    "    grid_search.fit(topfeature_train_X,topfeature_train_y)\n",
    "    print(name, \"Best Params:\" + str(grid_search.best_params_))\n",
    "    print(name, \"Best Score:\" + str(grid_search.best_score_))\n",
    "    name = grid_search.predict(topfeature_test_X)\n",
    "\n",
    "    \n",
    "grid_cv(rf_clf, rf_params, 'randomForest')"
   ]
  },
  {
   "cell_type": "code",
   "execution_count": 43,
   "metadata": {
    "collapsed": false
   },
   "outputs": [
    {
     "ename": "NameError",
     "evalue": "name 'randomForest' is not defined",
     "output_type": "error",
     "traceback": [
      "\u001b[0;31m---------------------------------------------------------------------------\u001b[0m",
      "\u001b[0;31mNameError\u001b[0m                                 Traceback (most recent call last)",
      "\u001b[0;32m<ipython-input-43-6682874ff42b>\u001b[0m in \u001b[0;36m<module>\u001b[0;34m()\u001b[0m\n\u001b[0;32m----> 1\u001b[0;31m \u001b[0mrandomForest\u001b[0m\u001b[0;34m\u001b[0m\u001b[0m\n\u001b[0m",
      "\u001b[0;31mNameError\u001b[0m: name 'randomForest' is not defined"
     ]
    }
   ],
   "source": [
    "randomForest"
   ]
  },
  {
   "cell_type": "code",
   "execution_count": 31,
   "metadata": {
    "collapsed": false
   },
   "outputs": [
    {
     "data": {
      "text/plain": [
       "array([0, 0, 0, 0, 1, 0, 1, 0, 1, 0, 0, 0, 1, 0, 1, 1, 0, 0, 0, 1, 0, 1, 1,\n",
       "       1, 1, 0, 1, 0, 0, 0, 0, 0, 1, 0, 0, 0, 0, 0, 0, 0, 0, 0, 0, 1, 1, 0,\n",
       "       0, 0, 1, 1, 0, 0, 1, 1, 0, 0, 0, 0, 0, 1, 0, 0, 0, 1, 1, 1, 1, 0, 0,\n",
       "       1, 1, 0, 1, 1, 1, 0, 0, 1, 0, 1, 1, 0, 0, 0, 0, 0, 1, 1, 0, 1, 1, 0,\n",
       "       1, 0, 0, 0, 1, 0, 0, 0, 1, 0, 0, 0, 1, 0, 0, 0, 0, 0, 0, 1, 1, 1, 1,\n",
       "       0, 0, 1, 0, 1, 1, 0, 1, 0, 0, 1, 0, 1, 0, 0, 0, 0, 0, 0, 0, 0, 0, 0,\n",
       "       1, 0, 0, 1, 0, 0, 1, 0, 0, 0, 0, 0, 1, 0, 0, 1, 0, 0, 1, 1, 0, 1, 1,\n",
       "       1, 1, 0, 0, 1, 0, 0, 1, 0, 0, 0, 0, 0, 0, 1, 1, 0, 1, 1, 0, 1, 1, 0,\n",
       "       1, 0, 1, 0, 0, 0, 0, 0, 1, 0, 1, 0, 1, 1, 0, 0, 1, 1, 0, 1, 0, 0, 1,\n",
       "       0, 1, 0, 0, 0, 0, 1, 0, 0, 1, 0, 1, 0, 1, 0, 1, 0, 1, 1, 0, 1, 0, 0,\n",
       "       0, 1, 0, 0, 0, 0, 0, 0, 1, 1, 1, 1, 0, 0, 0, 0, 1, 0, 1, 1, 1, 0, 0,\n",
       "       0, 0, 0, 0, 0, 1, 0, 0, 0, 1, 1, 0, 0, 0, 0, 0, 0, 0, 0, 1, 1, 0, 1,\n",
       "       0, 0, 0, 0, 0, 1, 1, 0, 1, 0, 0, 0, 0, 0, 0, 1, 0, 0, 0, 0, 1, 0, 0,\n",
       "       0, 0, 0, 0, 0, 1, 1, 0, 1, 0, 0, 0, 0, 0, 0, 1, 1, 0, 0, 0, 0, 0, 0,\n",
       "       0, 0, 1, 0, 1, 0, 0, 0, 1, 0, 0, 1, 0, 0, 0, 0, 0, 0, 0, 0, 0, 1, 1,\n",
       "       1, 0, 1, 0, 1, 1, 0, 0, 0, 1, 0, 1, 0, 0, 1, 0, 1, 1, 0, 1, 0, 0, 1,\n",
       "       1, 0, 0, 1, 0, 0, 1, 1, 0, 0, 0, 0, 0, 0, 1, 1, 0, 1, 0, 0, 0, 0, 0,\n",
       "       1, 1, 0, 0, 1, 0, 1, 0, 0, 1, 0, 1, 0, 0, 0, 0, 0, 1, 1, 1, 1, 1, 0,\n",
       "       1, 0, 0, 1])"
      ]
     },
     "execution_count": 31,
     "metadata": {},
     "output_type": "execute_result"
    }
   ],
   "source": []
  },
  {
   "cell_type": "code",
   "execution_count": null,
   "metadata": {
    "collapsed": true
   },
   "outputs": [],
   "source": []
  }
 ],
 "metadata": {
  "kernelspec": {
   "display_name": "Python 3",
   "language": "python",
   "name": "python3"
  },
  "language_info": {
   "codemirror_mode": {
    "name": "ipython",
    "version": 3
   },
   "file_extension": ".py",
   "mimetype": "text/x-python",
   "name": "python",
   "nbconvert_exporter": "python",
   "pygments_lexer": "ipython3",
   "version": "3.6.0"
  }
 },
 "nbformat": 4,
 "nbformat_minor": 2
}
