{
 "cells": [
  {
   "cell_type": "code",
   "execution_count": 18,
   "metadata": {
    "collapsed": false
   },
   "outputs": [],
   "source": [
    "import numpy as np\n",
    "import pandas as pd \n",
    "from sklearn import preprocessing"
   ]
  },
  {
   "cell_type": "code",
   "execution_count": 34,
   "metadata": {
    "collapsed": true
   },
   "outputs": [],
   "source": [
    "#add some feature engineering \n",
    "from scipy import sparse as ssp\n",
    "from scipy.stats import spearmanr\n",
    "from sklearn.decomposition import PCA, FastICA,TruncatedSVD,NMF\n",
    "from sklearn.random_projection import GaussianRandomProjection\n",
    "from sklearn.random_projection import SparseRandomProjection\n",
    "from sklearn.pipeline import make_pipeline\n",
    "from sklearn.manifold import TSNE\n",
    "from sklearn.cluster import KMeans\n",
    "from sklearn.model_selection import KFold,StratifiedKFold"
   ]
  },
  {
   "cell_type": "code",
   "execution_count": 6,
   "metadata": {
    "collapsed": false
   },
   "outputs": [
    {
     "name": "stdout",
     "output_type": "stream",
     "text": [
      "Shape train: (4209, 378)\n",
      "Shape test: (4209, 377)\n"
     ]
    }
   ],
   "source": [
    "train_df = pd.read_csv('train.csv')\n",
    "test_df = pd.read_csv('test.csv')\n",
    "\n",
    "#apply lableEncoder \n",
    "for line in train_df.columns:\n",
    "    if train_df[line].dtype == 'object':\n",
    "        lbl = preprocessing.LabelEncoder()\n",
    "        lbl.fit(list(train_df[line].values) + list(test_df[line].values))\n",
    "        train_df[line] = lbl.transform(train_df[line].values)\n",
    "        test_df[line] = lbl.transform(list(test_df[line].values))\n",
    "        \n",
    "print('Shape train: {}\\nShape test: {}'.format(train_df.shape, test_df.shape))"
   ]
  },
  {
   "cell_type": "code",
   "execution_count": 24,
   "metadata": {
    "collapsed": false
   },
   "outputs": [],
   "source": [
    "from sklearn.decomposition import PCA, FastICA\n",
    "n_comp = 10\n",
    "\n",
    "# PCA\n",
    "pca = PCA(n_components=n_comp, random_state=42)\n",
    "pca2_results_train = pca.fit_transform(train_df.drop([\"y\"], axis=1))\n",
    "pca2_results_test = pca.transform(test_df)\n",
    "\n",
    "# ICA\n",
    "ica = FastICA(n_components=n_comp, random_state=42)\n",
    "ica2_results_train = ica.fit_transform(train_df.drop([\"y\"], axis=1))\n",
    "ica2_results_test = ica.transform(test_df)\n",
    "\n",
    "# Append decomposition components to datasets\n",
    "for i in range(1, n_comp+1):\n",
    "    train_df['pca_' + str(i)] = pca2_results_train[:,i-1]\n",
    "    test_df['pca_' + str(i)] = pca2_results_test[:, i-1]\n",
    "    \n",
    "    train_df['ica_' + str(i)] = ica2_results_train[:,i-1]\n",
    "    test_df['ica_' + str(i)] = ica2_results_test[:, i-1]\n",
    "    \n",
    "smooth=5\n",
    "y_train = train_df[\"y\"]\n",
    "y_train = np.log(y_train+smooth)\n",
    "y_mean = np.mean(y_train)\n",
    "y_train = y_train - y_mean \n",
    "train_df[\"y\"] = y_train \n",
    "#y_mean\n",
    "#train_df"
   ]
  },
  {
   "cell_type": "code",
   "execution_count": 36,
   "metadata": {
    "collapsed": false
   },
   "outputs": [],
   "source": [
    "#train_df.columns.values "
   ]
  },
  {
   "cell_type": "code",
   "execution_count": 28,
   "metadata": {
    "collapsed": false
   },
   "outputs": [],
   "source": [
    "X = train_df.drop('y', axis=1).copy(deep=True)\n",
    "X_t = test_df.copy(deep=True)"
   ]
  },
  {
   "cell_type": "code",
   "execution_count": 38,
   "metadata": {
    "collapsed": false
   },
   "outputs": [
    {
     "name": "stdout",
     "output_type": "stream",
     "text": [
      "feature 1\n",
      "X14 SpearmanrResult(correlation=0.23271157178351343, pvalue=7.2268888958531111e-53)\n",
      "X48 SpearmanrResult(correlation=0.20357135784009164, pvalue=1.2996370177538068e-40)\n",
      "X51 SpearmanrResult(correlation=0.2611090689430815, pvalue=1.4576088840370931e-66)\n",
      "X66 SpearmanrResult(correlation=0.21315967647205705, pvalue=1.8967274267969423e-44)\n",
      "X113 SpearmanrResult(correlation=0.20357135784009164, pvalue=1.2996370177538068e-40)\n",
      "X118 SpearmanrResult(correlation=0.27089687911170574, pvalue=1.0676923363400654e-71)\n",
      "X119 SpearmanrResult(correlation=0.27089687911170574, pvalue=1.0676923363400654e-71)\n",
      "X126 SpearmanrResult(correlation=0.24172003199564598, pvalue=5.0736755619928469e-57)\n"
     ]
    },
    {
     "name": "stderr",
     "output_type": "stream",
     "text": [
      "/anaconda/lib/python3.6/site-packages/numpy/lib/function_base.py:2569: RuntimeWarning: invalid value encountered in true_divide\n",
      "  c /= stddev[:, None]\n",
      "/anaconda/lib/python3.6/site-packages/numpy/lib/function_base.py:2570: RuntimeWarning: invalid value encountered in true_divide\n",
      "  c /= stddev[None, :]\n",
      "/anaconda/lib/python3.6/site-packages/scipy/stats/_distn_infrastructure.py:875: RuntimeWarning: invalid value encountered in greater\n",
      "  return (self.a < x) & (x < self.b)\n",
      "/anaconda/lib/python3.6/site-packages/scipy/stats/_distn_infrastructure.py:875: RuntimeWarning: invalid value encountered in less\n",
      "  return (self.a < x) & (x < self.b)\n",
      "/anaconda/lib/python3.6/site-packages/scipy/stats/_distn_infrastructure.py:1814: RuntimeWarning: invalid value encountered in less_equal\n",
      "  cond2 = cond0 & (x <= self.a)\n"
     ]
    },
    {
     "name": "stdout",
     "output_type": "stream",
     "text": [
      "X130 SpearmanrResult(correlation=0.23415408749018998, pvalue=1.6054655030408509e-53)\n",
      "X134 SpearmanrResult(correlation=0.20357135784009164, pvalue=1.2996370177538068e-40)\n",
      "X147 SpearmanrResult(correlation=0.20357135784009164, pvalue=1.2996370177538068e-40)\n",
      "X179 SpearmanrResult(correlation=0.23666393517075276, pvalue=1.1433060738837628e-54)\n",
      "X191 SpearmanrResult(correlation=0.22965447867367564, pvalue=1.693718142409307e-51)\n",
      "X198 SpearmanrResult(correlation=0.20553581089858822, pvalue=2.2052103895266728e-41)\n",
      "X222 SpearmanrResult(correlation=0.20357135784009164, pvalue=1.2996370177538068e-40)\n",
      "X223 SpearmanrResult(correlation=0.22158289577218154, pvalue=5.62402980674849e-48)\n",
      "X224 SpearmanrResult(correlation=0.22029774009300782, pvalue=1.9859079274389972e-47)\n",
      "X251 SpearmanrResult(correlation=0.23129920010352548, pvalue=3.1212180651895575e-52)\n",
      "X264 SpearmanrResult(correlation=0.24384865853019391, pvalue=4.9908281952374735e-58)\n",
      "X275 SpearmanrResult(correlation=0.27138628318725722, pvalue=5.8341747864020647e-72)\n",
      "X306 SpearmanrResult(correlation=0.20025584089028875, pvalue=2.4888277582024743e-39)\n",
      "X311 SpearmanrResult(correlation=0.2060442027694363, pvalue=1.3892591480711392e-41)\n",
      "X315 SpearmanrResult(correlation=0.20034397482000091, pvalue=2.3025234028691161e-39)\n",
      "pca_2 SpearmanrResult(correlation=0.21553225628268172, pvalue=1.9922043862150857e-45)\n",
      "new feature SpearmanrResult(correlation=0.2490887457473254, pvalue=1.502010099144375e-60)\n"
     ]
    }
   ],
   "source": [
    "scaler = preprocessing.MinMaxScaler()\n",
    "X['ID'] = scaler.fit_transform(X[['ID']].values)\n",
    "X_t['ID'] = scaler.transform(X_t[['ID']].values)\n",
    "print('feature 1')\n",
    "sum_cols = []\n",
    "for c in X.columns:\n",
    "    score = (spearmanr(y_train,X[c]))\n",
    "    if score[0]>=0.2 and score[0]<=0.3:\n",
    "        print(c,score)\n",
    "        sum_cols.append(c)\n",
    "\n",
    "X['sum_row_2_to_3'] = X.drop('ID', axis=1)[sum_cols].sum(axis=1)\n",
    "X_t['sum_row_2_to_3'] = X_t.drop('ID', axis=1)[sum_cols].sum(axis=1)\n",
    "print('new feature',spearmanr(y_train,X['sum_row_2_to_3']))"
   ]
  },
  {
   "cell_type": "code",
   "execution_count": 40,
   "metadata": {
    "collapsed": false
   },
   "outputs": [
    {
     "name": "stdout",
     "output_type": "stream",
     "text": [
      "feature 2\n",
      "X2 SpearmanrResult(correlation=0.13158960738950537, pvalue=1.0181363130966923e-17)\n",
      "X47 SpearmanrResult(correlation=0.1212883321105124, pvalue=2.8886066381250153e-15)\n",
      "X52 SpearmanrResult(correlation=0.19736322675451487, pvalue=3.13469444203809e-38)\n",
      "X64 SpearmanrResult(correlation=0.10181248528247661, pvalue=3.5794673112564369e-11)\n",
      "X68 SpearmanrResult(correlation=0.16200292022368409, pvalue=3.8076199582459172e-26)\n",
      "X71 SpearmanrResult(correlation=0.14890315297151863, pvalue=2.6887569017290762e-22)\n",
      "X75 SpearmanrResult(correlation=0.15457622325411347, pvalue=6.3642766285106105e-24)\n",
      "X84 SpearmanrResult(correlation=0.14890315297151863, pvalue=2.6887569017290762e-22)\n",
      "X85 SpearmanrResult(correlation=0.1281335714190161, pvalue=7.1306865445296541e-17)\n",
      "X96 SpearmanrResult(correlation=0.15027972353435443, pvalue=1.0984648193439938e-22)\n"
     ]
    },
    {
     "name": "stderr",
     "output_type": "stream",
     "text": [
      "/anaconda/lib/python3.6/site-packages/numpy/lib/function_base.py:2569: RuntimeWarning: invalid value encountered in true_divide\n",
      "  c /= stddev[:, None]\n",
      "/anaconda/lib/python3.6/site-packages/numpy/lib/function_base.py:2570: RuntimeWarning: invalid value encountered in true_divide\n",
      "  c /= stddev[None, :]\n",
      "/anaconda/lib/python3.6/site-packages/scipy/stats/_distn_infrastructure.py:875: RuntimeWarning: invalid value encountered in greater\n",
      "  return (self.a < x) & (x < self.b)\n",
      "/anaconda/lib/python3.6/site-packages/scipy/stats/_distn_infrastructure.py:875: RuntimeWarning: invalid value encountered in less\n",
      "  return (self.a < x) & (x < self.b)\n",
      "/anaconda/lib/python3.6/site-packages/scipy/stats/_distn_infrastructure.py:1814: RuntimeWarning: invalid value encountered in less_equal\n",
      "  cond2 = cond0 & (x <= self.a)\n"
     ]
    },
    {
     "name": "stdout",
     "output_type": "stream",
     "text": [
      "X150 SpearmanrResult(correlation=0.15828600410347105, pvalue=5.090268480284762e-25)\n",
      "X151 SpearmanrResult(correlation=0.10642054429461194, pvalue=4.4582130189072218e-12)\n",
      "X155 SpearmanrResult(correlation=0.13241347559222771, pvalue=6.3524766888659539e-18)\n",
      "X156 SpearmanrResult(correlation=0.15733046650908872, pvalue=9.8144690505536285e-25)\n",
      "X170 SpearmanrResult(correlation=0.18496198248759121, pvalue=1.0468008073693234e-33)\n",
      "X180 SpearmanrResult(correlation=0.13961248645681151, pvalue=9.0733009614535791e-20)\n",
      "X187 SpearmanrResult(correlation=0.17533512141422311, pvalue=2.078494726313512e-30)\n",
      "X197 SpearmanrResult(correlation=0.10093443054165158, pvalue=5.2691759331188333e-11)\n",
      "X208 SpearmanrResult(correlation=0.10268676397658415, pvalue=2.4277321357680762e-11)\n",
      "X221 SpearmanrResult(correlation=0.10490322566170926, pvalue=8.9409910305564303e-12)\n",
      "X228 SpearmanrResult(correlation=0.13851144976629962, pvalue=1.7635537001392328e-19)\n",
      "X241 SpearmanrResult(correlation=0.12792882044810919, pvalue=7.9891609658315199e-17)\n",
      "X244 SpearmanrResult(correlation=0.14890315297151863, pvalue=2.6887569017290762e-22)\n",
      "X255 SpearmanrResult(correlation=0.12673702876679838, pvalue=1.5427345547603622e-16)\n",
      "X300 SpearmanrResult(correlation=0.18984924529450223, pvalue=1.8808019253632977e-35)\n",
      "X331 SpearmanrResult(correlation=0.11129282588170729, pvalue=4.464359247336712e-13)\n",
      "X336 SpearmanrResult(correlation=0.10845509417186285, pvalue=1.7266499761292745e-12)\n",
      "X343 SpearmanrResult(correlation=0.14082255749403566, pvalue=4.3438989424695395e-20)\n",
      "X346 SpearmanrResult(correlation=0.10633091589882093, pvalue=4.646564918631034e-12)\n",
      "X349 SpearmanrResult(correlation=0.10711335829221756, pvalue=3.2340222846482691e-12)\n",
      "X352 SpearmanrResult(correlation=0.10867826921980368, pvalue=1.5543451547517402e-12)\n",
      "X354 SpearmanrResult(correlation=0.13551093004527281, pvalue=1.0499403183409661e-18)\n",
      "X355 SpearmanrResult(correlation=0.13493983669363568, pvalue=1.4678459584129728e-18)\n",
      "X360 SpearmanrResult(correlation=0.13241347559222771, pvalue=6.3524766888659539e-18)\n",
      "X363 SpearmanrResult(correlation=0.14075175216774619, pvalue=4.536016879580403e-20)\n",
      "X367 SpearmanrResult(correlation=0.11210611390717681, pvalue=3.0104520003202818e-13)\n",
      "X368 SpearmanrResult(correlation=0.1015325139594848, pvalue=4.0505723758659921e-11)\n",
      "X376 SpearmanrResult(correlation=0.1321276046443246, pvalue=7.4846925844974212e-18)\n",
      "ica_1 SpearmanrResult(correlation=0.18621531790112164, pvalue=3.7741847789783321e-34)\n",
      "ica_4 SpearmanrResult(correlation=0.17857523299832559, pvalue=1.6923275760123312e-31)\n",
      "pca_8 SpearmanrResult(correlation=0.16677937420093814, pvalue=1.2409607604209703e-27)\n",
      "new feature SpearmanrResult(correlation=0.2317699281922791, pvalue=1.9188285428883682e-52)\n"
     ]
    }
   ],
   "source": [
    "print('feature 2')\n",
    "sum_cols = []\n",
    "for c in X.columns:\n",
    "    score = (spearmanr(y_train,X[c]))\n",
    "    if score[0]>=0.1 and score[0]<=0.2:\n",
    "        print(c,score)\n",
    "        sum_cols.append(c)\n",
    "\n",
    "X['sum_row_1_to_2'] = X.drop('ID', axis=1)[sum_cols].sum(axis=1)\n",
    "X_t['sum_row_1_to_2'] = X_t.drop('ID', axis=1)[sum_cols].sum(axis=1)\n",
    "print('new feature',spearmanr(y_train,X['sum_row_1_to_2']))"
   ]
  },
  {
   "cell_type": "code",
   "execution_count": 41,
   "metadata": {
    "collapsed": false
   },
   "outputs": [
    {
     "name": "stdout",
     "output_type": "stream",
     "text": [
      "feature 3\n",
      "X12 SpearmanrResult(correlation=0.088043156674917342, pvalue=1.0566533400454334e-08)\n",
      "X13 SpearmanrResult(correlation=0.051711095904168933, pvalue=0.00079050075352438587)\n",
      "X34 SpearmanrResult(correlation=0.064353895964323615, pvalue=2.938686779663853e-05)\n",
      "X44 SpearmanrResult(correlation=0.090772756263977808, pvalue=3.6465030551708312e-09)\n",
      "X53 SpearmanrResult(correlation=0.070796895215738662, pvalue=4.2762829146537143e-06)\n",
      "X55 SpearmanrResult(correlation=0.054065429230942832, pvalue=0.00044959684982717063)\n",
      "X62 SpearmanrResult(correlation=0.093625344331379354, pvalue=1.1599790476874411e-09)\n",
      "X69 SpearmanrResult(correlation=0.089711138185718048, pvalue=5.5360387795531804e-09)\n",
      "X78 SpearmanrResult(correlation=0.061828748835767847, pvalue=5.9723462135892377e-05)\n",
      "X82 SpearmanrResult(correlation=0.053632950041820129, pvalue=0.00049953348735447701)\n",
      "X102 SpearmanrResult(correlation=0.070796895215738662, pvalue=4.2762829146537143e-06)\n",
      "X109 SpearmanrResult(correlation=0.074562368809068205, pvalue=1.2810375872860773e-06)\n",
      "X112 SpearmanrResult(correlation=0.057012532319473334, pvalue=0.00021500340527230225)\n"
     ]
    },
    {
     "name": "stderr",
     "output_type": "stream",
     "text": [
      "/anaconda/lib/python3.6/site-packages/numpy/lib/function_base.py:2569: RuntimeWarning: invalid value encountered in true_divide\n",
      "  c /= stddev[:, None]\n",
      "/anaconda/lib/python3.6/site-packages/numpy/lib/function_base.py:2570: RuntimeWarning: invalid value encountered in true_divide\n",
      "  c /= stddev[None, :]\n",
      "/anaconda/lib/python3.6/site-packages/scipy/stats/_distn_infrastructure.py:875: RuntimeWarning: invalid value encountered in greater\n",
      "  return (self.a < x) & (x < self.b)\n",
      "/anaconda/lib/python3.6/site-packages/scipy/stats/_distn_infrastructure.py:875: RuntimeWarning: invalid value encountered in less\n",
      "  return (self.a < x) & (x < self.b)\n",
      "/anaconda/lib/python3.6/site-packages/scipy/stats/_distn_infrastructure.py:1814: RuntimeWarning: invalid value encountered in less_equal\n",
      "  cond2 = cond0 & (x <= self.a)\n"
     ]
    },
    {
     "name": "stdout",
     "output_type": "stream",
     "text": [
      "X131 SpearmanrResult(correlation=0.073087231859785565, pvalue=2.068577052818342e-06)\n",
      "X142 SpearmanrResult(correlation=0.086590434631659927, pvalue=1.8378285352101143e-08)\n",
      "X163 SpearmanrResult(correlation=0.065827247071032075, pvalue=1.9197195118377821e-05)\n",
      "X171 SpearmanrResult(correlation=0.089288700822733352, pvalue=6.5279726694704066e-09)\n",
      "X172 SpearmanrResult(correlation=0.093625344331379354, pvalue=1.1599790476874411e-09)\n",
      "X176 SpearmanrResult(correlation=0.055956031666974389, pvalue=0.00028121562717078831)\n",
      "X177 SpearmanrResult(correlation=0.053712224262457441, pvalue=0.0004900094723219743)\n",
      "X183 SpearmanrResult(correlation=0.070038561030065241, pvalue=5.4128758626020661e-06)\n",
      "X189 SpearmanrResult(correlation=0.082184393610834336, pvalue=9.3300425624300407e-08)\n",
      "X199 SpearmanrResult(correlation=0.057012532319473334, pvalue=0.00021500340527230225)\n",
      "X211 SpearmanrResult(correlation=0.068138965875717258, pvalue=9.6680167166954933e-06)\n",
      "X214 SpearmanrResult(correlation=0.070796895215738662, pvalue=4.2762829146537143e-06)\n",
      "X216 SpearmanrResult(correlation=0.093625344331379354, pvalue=1.1599790476874411e-09)\n",
      "X219 SpearmanrResult(correlation=0.079353804737017974, pvalue=2.5387141145410079e-07)\n",
      "X225 SpearmanrResult(correlation=0.052686584960962977, pvalue=0.00062737001466196352)\n",
      "X237 SpearmanrResult(correlation=0.071488169175271093, pvalue=3.4424039788226177e-06)\n",
      "X238 SpearmanrResult(correlation=0.078121438895837572, pvalue=3.8847446131403007e-07)\n",
      "X239 SpearmanrResult(correlation=0.070796895215738662, pvalue=4.2762829146537143e-06)\n",
      "X267 SpearmanrResult(correlation=0.095197337368872176, pvalue=6.0807724754489194e-10)\n",
      "X282 SpearmanrResult(correlation=0.053727831102495738, pvalue=0.00048815452135928249)\n",
      "X283 SpearmanrResult(correlation=0.058434766822790182, pvalue=0.00014873243228519738)\n",
      "X285 SpearmanrResult(correlation=0.082134119575312955, pvalue=9.5001678948725714e-08)\n",
      "X302 SpearmanrResult(correlation=0.090772756263977808, pvalue=3.6465030551708312e-09)\n",
      "X308 SpearmanrResult(correlation=0.064662775259284239, pvalue=2.6897101134763219e-05)\n",
      "X309 SpearmanrResult(correlation=0.085198198934552299, pvalue=3.0978868796074175e-08)\n",
      "X312 SpearmanrResult(correlation=0.076907097648400688, pvalue=5.871260416255552e-07)\n",
      "X317 SpearmanrResult(correlation=0.094540445959324856, pvalue=7.9747951372629347e-10)\n",
      "X329 SpearmanrResult(correlation=0.061867600514896585, pvalue=5.9086942727786233e-05)\n",
      "X334 SpearmanrResult(correlation=0.064013146781362482, pvalue=3.2387111987347103e-05)\n",
      "X344 SpearmanrResult(correlation=0.07378148598074806, pvalue=1.6527742535168826e-06)\n",
      "X351 SpearmanrResult(correlation=0.094770775012347555, pvalue=7.2530162019250514e-10)\n",
      "X370 SpearmanrResult(correlation=0.068184311426579672, pvalue=9.5367173735627339e-06)\n",
      "X377 SpearmanrResult(correlation=0.057858926828791749, pvalue=0.00017283431523199287)\n",
      "X379 SpearmanrResult(correlation=0.072903832734512189, pvalue=2.194182471697536e-06)\n",
      "pca_3 SpearmanrResult(correlation=0.059961135889034019, pvalue=9.9243522265060068e-05)\n",
      "ica_3 SpearmanrResult(correlation=0.058976977198390998, pvalue=0.00012896120764641162)\n",
      "ica_6 SpearmanrResult(correlation=0.08445731020671314, pvalue=4.0766354529184353e-08)\n",
      "new feature SpearmanrResult(correlation=0.0744799703705252, pvalue=1.3161016092942673e-06)\n"
     ]
    }
   ],
   "source": [
    "print('feature 3')\n",
    "sum_cols = []\n",
    "for c in X.columns:\n",
    "    score = (spearmanr(y_train,X[c]))\n",
    "    if score[0]>=0.05 and score[0]<=0.1:\n",
    "        print(c,score)\n",
    "        sum_cols.append(c)\n",
    "\n",
    "X['sum_row_05_to_1'] = X.drop('ID', axis=1)[sum_cols].sum(axis=1)\n",
    "X_t['sum_row_05_to_1'] = X_t.drop('ID', axis=1)[sum_cols].sum(axis=1)\n",
    "print('new feature',spearmanr(y_train,X['sum_row_05_to_1']))"
   ]
  },
  {
   "cell_type": "code",
   "execution_count": 43,
   "metadata": {
    "collapsed": false
   },
   "outputs": [
    {
     "data": {
      "text/html": [
       "<div>\n",
       "<table border=\"1\" class=\"dataframe\">\n",
       "  <thead>\n",
       "    <tr style=\"text-align: right;\">\n",
       "      <th></th>\n",
       "      <th>ID</th>\n",
       "      <th>X0</th>\n",
       "      <th>X1</th>\n",
       "      <th>X2</th>\n",
       "      <th>X3</th>\n",
       "      <th>X4</th>\n",
       "      <th>X5</th>\n",
       "      <th>X6</th>\n",
       "      <th>X8</th>\n",
       "      <th>X10</th>\n",
       "      <th>...</th>\n",
       "      <th>ica_7</th>\n",
       "      <th>pca_8</th>\n",
       "      <th>ica_8</th>\n",
       "      <th>pca_9</th>\n",
       "      <th>ica_9</th>\n",
       "      <th>pca_10</th>\n",
       "      <th>ica_10</th>\n",
       "      <th>sum_row_2_to_3</th>\n",
       "      <th>sum_row_1_to_2</th>\n",
       "      <th>sum_row_05_to_1</th>\n",
       "    </tr>\n",
       "  </thead>\n",
       "  <tbody>\n",
       "    <tr>\n",
       "      <th>0</th>\n",
       "      <td>0.000000</td>\n",
       "      <td>37</td>\n",
       "      <td>23</td>\n",
       "      <td>20</td>\n",
       "      <td>0</td>\n",
       "      <td>3</td>\n",
       "      <td>27</td>\n",
       "      <td>9</td>\n",
       "      <td>14</td>\n",
       "      <td>0</td>\n",
       "      <td>...</td>\n",
       "      <td>0.014502</td>\n",
       "      <td>10.863589</td>\n",
       "      <td>-0.004618</td>\n",
       "      <td>4.346131</td>\n",
       "      <td>0.014550</td>\n",
       "      <td>-1.319238</td>\n",
       "      <td>0.056137</td>\n",
       "      <td>5.009898</td>\n",
       "      <td>37.889326</td>\n",
       "      <td>8.893976</td>\n",
       "    </tr>\n",
       "    <tr>\n",
       "      <th>1</th>\n",
       "      <td>0.000713</td>\n",
       "      <td>37</td>\n",
       "      <td>21</td>\n",
       "      <td>22</td>\n",
       "      <td>4</td>\n",
       "      <td>3</td>\n",
       "      <td>31</td>\n",
       "      <td>11</td>\n",
       "      <td>14</td>\n",
       "      <td>0</td>\n",
       "      <td>...</td>\n",
       "      <td>0.006888</td>\n",
       "      <td>-1.262431</td>\n",
       "      <td>-0.006094</td>\n",
       "      <td>2.462597</td>\n",
       "      <td>0.025231</td>\n",
       "      <td>-1.658361</td>\n",
       "      <td>0.063920</td>\n",
       "      <td>4.859025</td>\n",
       "      <td>27.729671</td>\n",
       "      <td>9.702113</td>\n",
       "    </tr>\n",
       "    <tr>\n",
       "      <th>2</th>\n",
       "      <td>0.000832</td>\n",
       "      <td>24</td>\n",
       "      <td>24</td>\n",
       "      <td>38</td>\n",
       "      <td>2</td>\n",
       "      <td>3</td>\n",
       "      <td>30</td>\n",
       "      <td>9</td>\n",
       "      <td>23</td>\n",
       "      <td>0</td>\n",
       "      <td>...</td>\n",
       "      <td>0.026389</td>\n",
       "      <td>3.100797</td>\n",
       "      <td>-0.023800</td>\n",
       "      <td>4.501178</td>\n",
       "      <td>0.015271</td>\n",
       "      <td>-1.155297</td>\n",
       "      <td>0.061265</td>\n",
       "      <td>47.586858</td>\n",
       "      <td>53.118676</td>\n",
       "      <td>39.505611</td>\n",
       "    </tr>\n",
       "    <tr>\n",
       "      <th>3</th>\n",
       "      <td>0.001069</td>\n",
       "      <td>24</td>\n",
       "      <td>21</td>\n",
       "      <td>38</td>\n",
       "      <td>5</td>\n",
       "      <td>3</td>\n",
       "      <td>30</td>\n",
       "      <td>11</td>\n",
       "      <td>4</td>\n",
       "      <td>0</td>\n",
       "      <td>...</td>\n",
       "      <td>0.027256</td>\n",
       "      <td>-4.996100</td>\n",
       "      <td>0.016496</td>\n",
       "      <td>5.871117</td>\n",
       "      <td>0.025517</td>\n",
       "      <td>0.561077</td>\n",
       "      <td>0.062468</td>\n",
       "      <td>45.468782</td>\n",
       "      <td>39.996656</td>\n",
       "      <td>40.128244</td>\n",
       "    </tr>\n",
       "    <tr>\n",
       "      <th>4</th>\n",
       "      <td>0.001544</td>\n",
       "      <td>24</td>\n",
       "      <td>23</td>\n",
       "      <td>38</td>\n",
       "      <td>5</td>\n",
       "      <td>3</td>\n",
       "      <td>14</td>\n",
       "      <td>3</td>\n",
       "      <td>13</td>\n",
       "      <td>0</td>\n",
       "      <td>...</td>\n",
       "      <td>0.032196</td>\n",
       "      <td>-4.607984</td>\n",
       "      <td>-0.001881</td>\n",
       "      <td>5.753915</td>\n",
       "      <td>-0.018426</td>\n",
       "      <td>3.392346</td>\n",
       "      <td>0.031215</td>\n",
       "      <td>47.568540</td>\n",
       "      <td>36.383393</td>\n",
       "      <td>38.275679</td>\n",
       "    </tr>\n",
       "  </tbody>\n",
       "</table>\n",
       "<p>5 rows × 400 columns</p>\n",
       "</div>"
      ],
      "text/plain": [
       "         ID  X0  X1  X2  X3  X4  X5  X6  X8  X10       ...            ica_7  \\\n",
       "0  0.000000  37  23  20   0   3  27   9  14    0       ...         0.014502   \n",
       "1  0.000713  37  21  22   4   3  31  11  14    0       ...         0.006888   \n",
       "2  0.000832  24  24  38   2   3  30   9  23    0       ...         0.026389   \n",
       "3  0.001069  24  21  38   5   3  30  11   4    0       ...         0.027256   \n",
       "4  0.001544  24  23  38   5   3  14   3  13    0       ...         0.032196   \n",
       "\n",
       "       pca_8     ica_8     pca_9     ica_9    pca_10    ica_10  \\\n",
       "0  10.863589 -0.004618  4.346131  0.014550 -1.319238  0.056137   \n",
       "1  -1.262431 -0.006094  2.462597  0.025231 -1.658361  0.063920   \n",
       "2   3.100797 -0.023800  4.501178  0.015271 -1.155297  0.061265   \n",
       "3  -4.996100  0.016496  5.871117  0.025517  0.561077  0.062468   \n",
       "4  -4.607984 -0.001881  5.753915 -0.018426  3.392346  0.031215   \n",
       "\n",
       "   sum_row_2_to_3  sum_row_1_to_2  sum_row_05_to_1  \n",
       "0        5.009898       37.889326         8.893976  \n",
       "1        4.859025       27.729671         9.702113  \n",
       "2       47.586858       53.118676        39.505611  \n",
       "3       45.468782       39.996656        40.128244  \n",
       "4       47.568540       36.383393        38.275679  \n",
       "\n",
       "[5 rows x 400 columns]"
      ]
     },
     "execution_count": 43,
     "metadata": {},
     "output_type": "execute_result"
    }
   ],
   "source": [
    "X.head()"
   ]
  },
  {
   "cell_type": "code",
   "execution_count": 9,
   "metadata": {
    "collapsed": false
   },
   "outputs": [],
   "source": [
    "#from lightgbm import LGBMRegressor"
   ]
  },
  {
   "cell_type": "code",
   "execution_count": 54,
   "metadata": {
    "collapsed": false
   },
   "outputs": [
    {
     "name": "stdout",
     "output_type": "stream",
     "text": [
      "[0]\ttrain-rmse:4.63166\ttest-rmse:4.63166\n",
      "[50]\ttrain-rmse:3.60594\ttest-rmse:3.60593\n",
      "[100]\ttrain-rmse:2.80764\ttest-rmse:2.80763\n",
      "[150]\ttrain-rmse:2.18635\ttest-rmse:2.18633\n",
      "[200]\ttrain-rmse:1.70288\ttest-rmse:1.70286\n",
      "[250]\ttrain-rmse:1.32665\ttest-rmse:1.32662\n",
      "[300]\ttrain-rmse:1.03396\ttest-rmse:1.0339\n",
      "[350]\ttrain-rmse:0.806335\ttest-rmse:0.806322\n",
      "[400]\ttrain-rmse:0.629455\ttest-rmse:0.629497\n",
      "[450]\ttrain-rmse:0.492133\ttest-rmse:0.492269\n",
      "[499]\ttrain-rmse:0.387584\ttest-rmse:0.387882\n",
      "500\n"
     ]
    }
   ],
   "source": [
    "# prepare dict of params for xgboost to run with\n",
    "import xgboost as xgb\n",
    "xgb_params = {\n",
    "    'n_trees': 500, \n",
    "    'eta': 0.005,\n",
    "    'max_depth': 4,\n",
    "    'subsample': 0.95,\n",
    "    'objective': 'reg:linear',\n",
    "    'eval_metric': 'rmse',\n",
    "    'base_score': y_mean, # base prediction = mean(target)\n",
    "    'silent': 1\n",
    "}\n",
    "\n",
    "# form DMatrices for Xgboost training\n",
    "dtrain = xgb.DMatrix(X.drop(['sum_row_2_to_3', 'sum_row_1_to_2','sum_row_05_to_1'], axis=1), y_train)\n",
    "\n",
    "\n",
    "# xgboost, cross-validation\n",
    "cv_result = xgb.cv(xgb_params, \n",
    "                   dtrain, \n",
    "                   num_boost_round=500, # increase to have better results (~700)\n",
    "                   early_stopping_rounds=50,\n",
    "                   verbose_eval=50, \n",
    "                   show_stdv=False\n",
    "                  )\n",
    "\n",
    "num_boost_rounds = len(cv_result)\n",
    "print(num_boost_rounds)\n",
    "\n",
    "# train model\n",
    "model = xgb.train(dict(xgb_params, silent=0), dtrain, num_boost_round=num_boost_rounds)"
   ]
  },
  {
   "cell_type": "code",
   "execution_count": 55,
   "metadata": {
    "collapsed": false
   },
   "outputs": [
    {
     "name": "stdout",
     "output_type": "stream",
     "text": [
      "-10.1518148246\n"
     ]
    }
   ],
   "source": [
    "# check f2-score (to get higher score - increase num_boost_round in previous cell)\n",
    "from sklearn.metrics import r2_score\n",
    "\n",
    "# now fixed, correct calculation\n",
    "print(r2_score(dtrain.get_label(), model.predict(dtrain)))"
   ]
  },
  {
   "cell_type": "code",
   "execution_count": 50,
   "metadata": {
    "collapsed": false
   },
   "outputs": [],
   "source": [
    "# make predictions and save results\n",
    "dtest = xgb.DMatrix(X_t)\n",
    "y_pred = model.predict(dtest)\n",
    "output = pd.DataFrame({'id': test_df['ID'].astype(np.int32), 'y': y_pred})\n",
    "output.to_csv('xgboost-newfeature-pca-ica.csv', index=False)"
   ]
  },
  {
   "cell_type": "code",
   "execution_count": null,
   "metadata": {
    "collapsed": true
   },
   "outputs": [],
   "source": []
  }
 ],
 "metadata": {
  "kernelspec": {
   "display_name": "Python 3",
   "language": "python",
   "name": "python3"
  },
  "language_info": {
   "codemirror_mode": {
    "name": "ipython",
    "version": 3
   },
   "file_extension": ".py",
   "mimetype": "text/x-python",
   "name": "python",
   "nbconvert_exporter": "python",
   "pygments_lexer": "ipython3",
   "version": "3.6.0"
  }
 },
 "nbformat": 4,
 "nbformat_minor": 2
}
